{
 "cells": [
  {
   "cell_type": "markdown",
   "metadata": {},
   "source": [
    "# nb_opma0_rayleigh"
   ]
  },
  {
   "cell_type": "code",
   "execution_count": 1,
   "metadata": {
    "collapsed": true
   },
   "outputs": [],
   "source": [
    "%matplotlib inline\n",
    "import sys\n",
    "sys.path.append('./opmap/opmap/')"
   ]
  },
  {
   "cell_type": "code",
   "execution_count": 2,
   "metadata": {
    "collapsed": false
   },
   "outputs": [],
   "source": [
    "from RawCam import RawCam\n",
    "from VmemMap import VmemMap\n",
    "from PhaseMap import PhaseMap\n",
    "from PhaseVarianceMap import PhaseVarianceMap"
   ]
  },
  {
   "cell_type": "code",
   "execution_count": 3,
   "metadata": {
    "collapsed": true
   },
   "outputs": [],
   "source": [
    "import copy\n",
    "import pandas as pd\n",
    "import os\n",
    "import numpy as np"
   ]
  },
  {
   "cell_type": "markdown",
   "metadata": {},
   "source": [
    "## Parameters"
   ]
  },
  {
   "cell_type": "code",
   "execution_count": 4,
   "metadata": {
    "collapsed": false
   },
   "outputs": [],
   "source": [
    "# ! find /mnt/recordings/ExperimentData/ -type d -maxdepth 2\n",
    "# ! ls /mnt/nas"
   ]
  },
  {
   "cell_type": "code",
   "execution_count": 5,
   "metadata": {
    "collapsed": false
   },
   "outputs": [],
   "source": [
    "srcdir = \"/mnt/recordings/ExperimentData/\"\n",
    "outdir = \"/mnt/nas/nb_opmap_rayleigh\"\n",
    "\n",
    "if not os.path.exists(outdir) : os.makedirs(outdir)\n",
    "\n",
    "_param = {\n",
    "    'path' : None,\n",
    "    'threshold' : None,\n",
    "    'size' : None,\n",
    "    'cam_type' : \"sa4\",\n",
    "    'image_width' : 512,\n",
    "    'image_height' : 512,\n",
    "    'frame_start' : 0,\n",
    "    'frame_end' : 1000\n",
    "}\n",
    "\n",
    "sessions = [\n",
    "#     \"2004-08-06/C001S0004\",\n",
    "    \"20080902-3/C001S0025\"\n",
    "    \n",
    "]\n",
    "\n",
    "sizes = [3,9,15,21]\n",
    "\n",
    "thresholds = np.arange(0.4, 1.0, 0.1)\n"
   ]
  },
  {
   "cell_type": "code",
   "execution_count": 6,
   "metadata": {
    "collapsed": false
   },
   "outputs": [
    {
     "data": {
      "text/html": [
       "<div>\n",
       "<table border=\"1\" class=\"dataframe\">\n",
       "  <thead>\n",
       "    <tr style=\"text-align: right;\">\n",
       "      <th></th>\n",
       "      <th>cam_type</th>\n",
       "      <th>frame_end</th>\n",
       "      <th>frame_start</th>\n",
       "      <th>image_height</th>\n",
       "      <th>image_width</th>\n",
       "      <th>path</th>\n",
       "      <th>size</th>\n",
       "      <th>threshold</th>\n",
       "    </tr>\n",
       "  </thead>\n",
       "  <tbody>\n",
       "    <tr>\n",
       "      <th>0</th>\n",
       "      <td>sa4</td>\n",
       "      <td>1000</td>\n",
       "      <td>0</td>\n",
       "      <td>512</td>\n",
       "      <td>512</td>\n",
       "      <td>/mnt/recordings/ExperimentData/20080902-3/C001...</td>\n",
       "      <td>3</td>\n",
       "      <td>0.4</td>\n",
       "    </tr>\n",
       "    <tr>\n",
       "      <th>1</th>\n",
       "      <td>sa4</td>\n",
       "      <td>1000</td>\n",
       "      <td>0</td>\n",
       "      <td>512</td>\n",
       "      <td>512</td>\n",
       "      <td>/mnt/recordings/ExperimentData/20080902-3/C001...</td>\n",
       "      <td>3</td>\n",
       "      <td>0.5</td>\n",
       "    </tr>\n",
       "    <tr>\n",
       "      <th>2</th>\n",
       "      <td>sa4</td>\n",
       "      <td>1000</td>\n",
       "      <td>0</td>\n",
       "      <td>512</td>\n",
       "      <td>512</td>\n",
       "      <td>/mnt/recordings/ExperimentData/20080902-3/C001...</td>\n",
       "      <td>3</td>\n",
       "      <td>0.6</td>\n",
       "    </tr>\n",
       "    <tr>\n",
       "      <th>3</th>\n",
       "      <td>sa4</td>\n",
       "      <td>1000</td>\n",
       "      <td>0</td>\n",
       "      <td>512</td>\n",
       "      <td>512</td>\n",
       "      <td>/mnt/recordings/ExperimentData/20080902-3/C001...</td>\n",
       "      <td>3</td>\n",
       "      <td>0.7</td>\n",
       "    </tr>\n",
       "    <tr>\n",
       "      <th>4</th>\n",
       "      <td>sa4</td>\n",
       "      <td>1000</td>\n",
       "      <td>0</td>\n",
       "      <td>512</td>\n",
       "      <td>512</td>\n",
       "      <td>/mnt/recordings/ExperimentData/20080902-3/C001...</td>\n",
       "      <td>3</td>\n",
       "      <td>0.8</td>\n",
       "    </tr>\n",
       "    <tr>\n",
       "      <th>5</th>\n",
       "      <td>sa4</td>\n",
       "      <td>1000</td>\n",
       "      <td>0</td>\n",
       "      <td>512</td>\n",
       "      <td>512</td>\n",
       "      <td>/mnt/recordings/ExperimentData/20080902-3/C001...</td>\n",
       "      <td>3</td>\n",
       "      <td>0.9</td>\n",
       "    </tr>\n",
       "    <tr>\n",
       "      <th>6</th>\n",
       "      <td>sa4</td>\n",
       "      <td>1000</td>\n",
       "      <td>0</td>\n",
       "      <td>512</td>\n",
       "      <td>512</td>\n",
       "      <td>/mnt/recordings/ExperimentData/20080902-3/C001...</td>\n",
       "      <td>9</td>\n",
       "      <td>0.4</td>\n",
       "    </tr>\n",
       "    <tr>\n",
       "      <th>7</th>\n",
       "      <td>sa4</td>\n",
       "      <td>1000</td>\n",
       "      <td>0</td>\n",
       "      <td>512</td>\n",
       "      <td>512</td>\n",
       "      <td>/mnt/recordings/ExperimentData/20080902-3/C001...</td>\n",
       "      <td>9</td>\n",
       "      <td>0.5</td>\n",
       "    </tr>\n",
       "    <tr>\n",
       "      <th>8</th>\n",
       "      <td>sa4</td>\n",
       "      <td>1000</td>\n",
       "      <td>0</td>\n",
       "      <td>512</td>\n",
       "      <td>512</td>\n",
       "      <td>/mnt/recordings/ExperimentData/20080902-3/C001...</td>\n",
       "      <td>9</td>\n",
       "      <td>0.6</td>\n",
       "    </tr>\n",
       "    <tr>\n",
       "      <th>9</th>\n",
       "      <td>sa4</td>\n",
       "      <td>1000</td>\n",
       "      <td>0</td>\n",
       "      <td>512</td>\n",
       "      <td>512</td>\n",
       "      <td>/mnt/recordings/ExperimentData/20080902-3/C001...</td>\n",
       "      <td>9</td>\n",
       "      <td>0.7</td>\n",
       "    </tr>\n",
       "    <tr>\n",
       "      <th>10</th>\n",
       "      <td>sa4</td>\n",
       "      <td>1000</td>\n",
       "      <td>0</td>\n",
       "      <td>512</td>\n",
       "      <td>512</td>\n",
       "      <td>/mnt/recordings/ExperimentData/20080902-3/C001...</td>\n",
       "      <td>9</td>\n",
       "      <td>0.8</td>\n",
       "    </tr>\n",
       "    <tr>\n",
       "      <th>11</th>\n",
       "      <td>sa4</td>\n",
       "      <td>1000</td>\n",
       "      <td>0</td>\n",
       "      <td>512</td>\n",
       "      <td>512</td>\n",
       "      <td>/mnt/recordings/ExperimentData/20080902-3/C001...</td>\n",
       "      <td>9</td>\n",
       "      <td>0.9</td>\n",
       "    </tr>\n",
       "    <tr>\n",
       "      <th>12</th>\n",
       "      <td>sa4</td>\n",
       "      <td>1000</td>\n",
       "      <td>0</td>\n",
       "      <td>512</td>\n",
       "      <td>512</td>\n",
       "      <td>/mnt/recordings/ExperimentData/20080902-3/C001...</td>\n",
       "      <td>15</td>\n",
       "      <td>0.4</td>\n",
       "    </tr>\n",
       "    <tr>\n",
       "      <th>13</th>\n",
       "      <td>sa4</td>\n",
       "      <td>1000</td>\n",
       "      <td>0</td>\n",
       "      <td>512</td>\n",
       "      <td>512</td>\n",
       "      <td>/mnt/recordings/ExperimentData/20080902-3/C001...</td>\n",
       "      <td>15</td>\n",
       "      <td>0.5</td>\n",
       "    </tr>\n",
       "    <tr>\n",
       "      <th>14</th>\n",
       "      <td>sa4</td>\n",
       "      <td>1000</td>\n",
       "      <td>0</td>\n",
       "      <td>512</td>\n",
       "      <td>512</td>\n",
       "      <td>/mnt/recordings/ExperimentData/20080902-3/C001...</td>\n",
       "      <td>15</td>\n",
       "      <td>0.6</td>\n",
       "    </tr>\n",
       "    <tr>\n",
       "      <th>15</th>\n",
       "      <td>sa4</td>\n",
       "      <td>1000</td>\n",
       "      <td>0</td>\n",
       "      <td>512</td>\n",
       "      <td>512</td>\n",
       "      <td>/mnt/recordings/ExperimentData/20080902-3/C001...</td>\n",
       "      <td>15</td>\n",
       "      <td>0.7</td>\n",
       "    </tr>\n",
       "    <tr>\n",
       "      <th>16</th>\n",
       "      <td>sa4</td>\n",
       "      <td>1000</td>\n",
       "      <td>0</td>\n",
       "      <td>512</td>\n",
       "      <td>512</td>\n",
       "      <td>/mnt/recordings/ExperimentData/20080902-3/C001...</td>\n",
       "      <td>15</td>\n",
       "      <td>0.8</td>\n",
       "    </tr>\n",
       "    <tr>\n",
       "      <th>17</th>\n",
       "      <td>sa4</td>\n",
       "      <td>1000</td>\n",
       "      <td>0</td>\n",
       "      <td>512</td>\n",
       "      <td>512</td>\n",
       "      <td>/mnt/recordings/ExperimentData/20080902-3/C001...</td>\n",
       "      <td>15</td>\n",
       "      <td>0.9</td>\n",
       "    </tr>\n",
       "    <tr>\n",
       "      <th>18</th>\n",
       "      <td>sa4</td>\n",
       "      <td>1000</td>\n",
       "      <td>0</td>\n",
       "      <td>512</td>\n",
       "      <td>512</td>\n",
       "      <td>/mnt/recordings/ExperimentData/20080902-3/C001...</td>\n",
       "      <td>21</td>\n",
       "      <td>0.4</td>\n",
       "    </tr>\n",
       "    <tr>\n",
       "      <th>19</th>\n",
       "      <td>sa4</td>\n",
       "      <td>1000</td>\n",
       "      <td>0</td>\n",
       "      <td>512</td>\n",
       "      <td>512</td>\n",
       "      <td>/mnt/recordings/ExperimentData/20080902-3/C001...</td>\n",
       "      <td>21</td>\n",
       "      <td>0.5</td>\n",
       "    </tr>\n",
       "    <tr>\n",
       "      <th>20</th>\n",
       "      <td>sa4</td>\n",
       "      <td>1000</td>\n",
       "      <td>0</td>\n",
       "      <td>512</td>\n",
       "      <td>512</td>\n",
       "      <td>/mnt/recordings/ExperimentData/20080902-3/C001...</td>\n",
       "      <td>21</td>\n",
       "      <td>0.6</td>\n",
       "    </tr>\n",
       "    <tr>\n",
       "      <th>21</th>\n",
       "      <td>sa4</td>\n",
       "      <td>1000</td>\n",
       "      <td>0</td>\n",
       "      <td>512</td>\n",
       "      <td>512</td>\n",
       "      <td>/mnt/recordings/ExperimentData/20080902-3/C001...</td>\n",
       "      <td>21</td>\n",
       "      <td>0.7</td>\n",
       "    </tr>\n",
       "    <tr>\n",
       "      <th>22</th>\n",
       "      <td>sa4</td>\n",
       "      <td>1000</td>\n",
       "      <td>0</td>\n",
       "      <td>512</td>\n",
       "      <td>512</td>\n",
       "      <td>/mnt/recordings/ExperimentData/20080902-3/C001...</td>\n",
       "      <td>21</td>\n",
       "      <td>0.8</td>\n",
       "    </tr>\n",
       "    <tr>\n",
       "      <th>23</th>\n",
       "      <td>sa4</td>\n",
       "      <td>1000</td>\n",
       "      <td>0</td>\n",
       "      <td>512</td>\n",
       "      <td>512</td>\n",
       "      <td>/mnt/recordings/ExperimentData/20080902-3/C001...</td>\n",
       "      <td>21</td>\n",
       "      <td>0.9</td>\n",
       "    </tr>\n",
       "  </tbody>\n",
       "</table>\n",
       "</div>"
      ],
      "text/plain": [
       "   cam_type  frame_end  frame_start  image_height  image_width  \\\n",
       "0       sa4       1000            0           512          512   \n",
       "1       sa4       1000            0           512          512   \n",
       "2       sa4       1000            0           512          512   \n",
       "3       sa4       1000            0           512          512   \n",
       "4       sa4       1000            0           512          512   \n",
       "5       sa4       1000            0           512          512   \n",
       "6       sa4       1000            0           512          512   \n",
       "7       sa4       1000            0           512          512   \n",
       "8       sa4       1000            0           512          512   \n",
       "9       sa4       1000            0           512          512   \n",
       "10      sa4       1000            0           512          512   \n",
       "11      sa4       1000            0           512          512   \n",
       "12      sa4       1000            0           512          512   \n",
       "13      sa4       1000            0           512          512   \n",
       "14      sa4       1000            0           512          512   \n",
       "15      sa4       1000            0           512          512   \n",
       "16      sa4       1000            0           512          512   \n",
       "17      sa4       1000            0           512          512   \n",
       "18      sa4       1000            0           512          512   \n",
       "19      sa4       1000            0           512          512   \n",
       "20      sa4       1000            0           512          512   \n",
       "21      sa4       1000            0           512          512   \n",
       "22      sa4       1000            0           512          512   \n",
       "23      sa4       1000            0           512          512   \n",
       "\n",
       "                                                 path  size  threshold  \n",
       "0   /mnt/recordings/ExperimentData/20080902-3/C001...     3        0.4  \n",
       "1   /mnt/recordings/ExperimentData/20080902-3/C001...     3        0.5  \n",
       "2   /mnt/recordings/ExperimentData/20080902-3/C001...     3        0.6  \n",
       "3   /mnt/recordings/ExperimentData/20080902-3/C001...     3        0.7  \n",
       "4   /mnt/recordings/ExperimentData/20080902-3/C001...     3        0.8  \n",
       "5   /mnt/recordings/ExperimentData/20080902-3/C001...     3        0.9  \n",
       "6   /mnt/recordings/ExperimentData/20080902-3/C001...     9        0.4  \n",
       "7   /mnt/recordings/ExperimentData/20080902-3/C001...     9        0.5  \n",
       "8   /mnt/recordings/ExperimentData/20080902-3/C001...     9        0.6  \n",
       "9   /mnt/recordings/ExperimentData/20080902-3/C001...     9        0.7  \n",
       "10  /mnt/recordings/ExperimentData/20080902-3/C001...     9        0.8  \n",
       "11  /mnt/recordings/ExperimentData/20080902-3/C001...     9        0.9  \n",
       "12  /mnt/recordings/ExperimentData/20080902-3/C001...    15        0.4  \n",
       "13  /mnt/recordings/ExperimentData/20080902-3/C001...    15        0.5  \n",
       "14  /mnt/recordings/ExperimentData/20080902-3/C001...    15        0.6  \n",
       "15  /mnt/recordings/ExperimentData/20080902-3/C001...    15        0.7  \n",
       "16  /mnt/recordings/ExperimentData/20080902-3/C001...    15        0.8  \n",
       "17  /mnt/recordings/ExperimentData/20080902-3/C001...    15        0.9  \n",
       "18  /mnt/recordings/ExperimentData/20080902-3/C001...    21        0.4  \n",
       "19  /mnt/recordings/ExperimentData/20080902-3/C001...    21        0.5  \n",
       "20  /mnt/recordings/ExperimentData/20080902-3/C001...    21        0.6  \n",
       "21  /mnt/recordings/ExperimentData/20080902-3/C001...    21        0.7  \n",
       "22  /mnt/recordings/ExperimentData/20080902-3/C001...    21        0.8  \n",
       "23  /mnt/recordings/ExperimentData/20080902-3/C001...    21        0.9  "
      ]
     },
     "execution_count": 6,
     "metadata": {},
     "output_type": "execute_result"
    }
   ],
   "source": [
    "params = []\n",
    "for sess in sessions:\n",
    "    for s in sizes:\n",
    "        for threshold in thresholds:\n",
    "            param = copy.copy(_param)\n",
    "            param[\"path\"] = os.path.join(srcdir, sess)\n",
    "            param[\"size\"] = s\n",
    "            param[\"threshold\"] = threshold\n",
    "            params.append(param)\n",
    "    \n",
    "dict_param = {}\n",
    "for key in _param.keys():\n",
    "    dict_param[key] = [param[key] for param in params ]\n",
    "    \n",
    "dict_param\n",
    "df = pd.DataFrame(dict_param)\n",
    "df"
   ]
  },
  {
   "cell_type": "code",
   "execution_count": 7,
   "metadata": {
    "collapsed": false
   },
   "outputs": [],
   "source": [
    "param = params[0]"
   ]
  },
  {
   "cell_type": "code",
   "execution_count": 8,
   "metadata": {
    "collapsed": false
   },
   "outputs": [],
   "source": [
    "## RawCam\n",
    "\n",
    "param_opmap = copy.copy(_param)\n",
    "del(param_opmap[\"threshold\"])\n",
    "del(param_opmap[\"size\"])\n",
    "param_opmap['path'] = param['path']\n",
    "\n",
    "cam = RawCam(**param_opmap)\n",
    "\n",
    "# cam.showFrame(showFrame)\n",
    "\n",
    "## VmemMap\n",
    "\n",
    "vmem = VmemMap(cam)\n",
    "vmem.setDiffRange(diff_min=20)\n",
    "\n",
    "vmem.smooth(1+int(param['image_width']/256)*4)\n",
    "\n",
    "# vmem_.showFrame(230)\n",
    "\n",
    "# vmem.showFrame(showFrame)\n",
    "# vmem.showROI()"
   ]
  },
  {
   "cell_type": "code",
   "execution_count": 9,
   "metadata": {
    "collapsed": false
   },
   "outputs": [
    {
     "name": "stderr",
     "output_type": "stream",
     "text": [
      "./opmap/opmap/VideoData.py:10: VisibleDeprecationWarning: using a non-integer number instead of an integer will result in an error in the future\n",
      "  self.data = np.zeros((length, height, width), dtype=np.float32)\n",
      "/root/.pyenv/versions/anaconda3-4.1.1/lib/python3.5/site-packages/numpy/core/numeric.py:190: VisibleDeprecationWarning: using a non-integer number instead of an integer will result in an error in the future\n",
      "  a = empty(shape, dtype, order)\n"
     ]
    }
   ],
   "source": [
    "## PhaseMap\n",
    "\n",
    "# pmap = PhaseMap(vmem, shrink=int(param['image_width']/128), sigma_mean=32, sigma_t = 5)\n",
    "pmap = PhaseMap(vmem)"
   ]
  },
  {
   "cell_type": "code",
   "execution_count": 10,
   "metadata": {
    "collapsed": true
   },
   "outputs": [],
   "source": [
    "# pmap = PhaseMap(vmem, shrink=1)\n",
    "pmap.morphROI(closing=10)\n",
    "pmap.morphROI(erosion=10)\n",
    "pmap.setRectROI(top=10)"
   ]
  },
  {
   "cell_type": "code",
   "execution_count": 11,
   "metadata": {
    "collapsed": false
   },
   "outputs": [
    {
     "data": {
      "image/png": "[encoded data removed]",
      "text/plain": [
       "<matplotlib.figure.Figure at 0x7f99b82f36a0>"
      ]
     },
     "metadata": {},
     "output_type": "display_data"
    }
   ],
   "source": [
    "showFrame=550\n",
    "\n",
    "pmap.showFrame(showFrame)\n",
    "# pmap.showROI()"
   ]
  },
  {
   "cell_type": "code",
   "execution_count": 12,
   "metadata": {
    "collapsed": true
   },
   "outputs": [],
   "source": [
    "## PhaseVarianceMap\n",
    "\n",
    "pvmap = PhaseVarianceMap(pmap, size=param['size'])\n",
    "pvmap.morphROI(erosion=param['size'])\n",
    "\n",
    "# pvmap.showFrame(showFrame)\n",
    "# pvmap.showROI()"
   ]
  },
  {
   "cell_type": "code",
   "execution_count": 13,
   "metadata": {
    "collapsed": false
   },
   "outputs": [
    {
     "name": "stdout",
     "output_type": "stream",
     "text": [
      "ffmpeg -r 15 -y -i \"./temp_mov/%06d.png\" -vcodec rawvideo \"./temp_mov.avi\"\n",
      "ffmpeg -r 15 -y -i \"./temp_mov/%06d.png\" -vcodec rawvideo \"./temp_mov.avi\"\n"
     ]
    }
   ],
   "source": [
    "# vmem.saveMovie(os.path.join(outdir, 'vmem.avi'),skip=5)\n",
    "# dstdir = os.path.join(outdir, param['session'])\n",
    "pmap.saveMovie(os.path.join(outdir, 'pmap.avi'))\n",
    "pvmap.saveMovie(os.path.join(outdir, 'pvmap.avi'))"
   ]
  }
 ],
 "metadata": {
  "kernelspec": {
   "display_name": "Python [Root]",
   "language": "python",
   "name": "Python [Root]"
  },
  "language_info": {
   "codemirror_mode": {
    "name": "ipython",
    "version": 3
   },
   "file_extension": ".py",
   "mimetype": "text/x-python",
   "name": "python",
   "nbconvert_exporter": "python",
   "pygments_lexer": "ipython3",
   "version": "3.5.2"
  }
 },
 "nbformat": 4,
 "nbformat_minor": 2
}
