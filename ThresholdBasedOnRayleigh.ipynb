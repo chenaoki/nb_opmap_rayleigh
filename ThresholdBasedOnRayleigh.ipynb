{
 "cells": [
  {
   "cell_type": "code",
   "execution_count": 1,
   "metadata": {
    "collapsed": true
   },
   "outputs": [],
   "source": [
    "import numpy as np"
   ]
  },
  {
   "cell_type": "markdown",
   "metadata": {},
   "source": [
    "p = exp( - N(1-V)^2 )\n",
    "\n",
    "log(p) = - N(1-V)^2\n",
    "\n",
    "-log(p)/N = (1 - V)^2\n",
    "\n",
    "sqrt( -log(p)/N ) = 1 - V\n",
    "\n",
    "V = 1 - sqrt( - log(p)/N )"
   ]
  },
  {
   "cell_type": "code",
   "execution_count": 2,
   "metadata": {
    "collapsed": true
   },
   "outputs": [],
   "source": [
    "p = 0.05"
   ]
  },
  {
   "cell_type": "code",
   "execution_count": 11,
   "metadata": {
    "collapsed": false
   },
   "outputs": [
    {
     "name": "stdout",
     "output_type": "stream",
     "text": [
      "window size:3\n",
      "0.423060539133\n",
      "window size:6\n",
      "0.711530269566\n",
      "window size:9\n",
      "0.807686846378\n",
      "window size:12\n",
      "0.855765134783\n"
     ]
    }
   ],
   "source": [
    "for w in range(3,12+1,3):\n",
    "    print('window size:'+str(w))\n",
    "    \n",
    "    print( 1 - np.sqrt( - np.log(p)/ (w**2) ) ) \n",
    "    \n"
   ]
  },
  {
   "cell_type": "code",
   "execution_count": null,
   "metadata": {
    "collapsed": true
   },
   "outputs": [],
   "source": []
  }
 ],
 "metadata": {
  "kernelspec": {
   "display_name": "Python [Root]",
   "language": "python",
   "name": "Python [Root]"
  },
  "language_info": {
   "codemirror_mode": {
    "name": "ipython",
    "version": 3
   },
   "file_extension": ".py",
   "mimetype": "text/x-python",
   "name": "python",
   "nbconvert_exporter": "python",
   "pygments_lexer": "ipython3",
   "version": "3.5.2"
  }
 },
 "nbformat": 4,
 "nbformat_minor": 0
}
